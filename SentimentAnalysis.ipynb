{
 "cells": [
  {
   "cell_type": "code",
   "execution_count": 4,
   "id": "e01568c2",
   "metadata": {},
   "outputs": [
    {
     "name": "stderr",
     "output_type": "stream",
     "text": [
      "Unexpected parameter: since\n",
      "Unexpected parameter: since\n",
      "Unexpected parameter: since\n",
      "Unexpected parameter: since\n",
      "Unexpected parameter: since\n",
      "Unexpected parameter: since\n",
      "Unexpected parameter: since\n",
      "Unexpected parameter: since\n",
      "Unexpected parameter: since\n",
      "Unexpected parameter: since\n",
      "Unexpected parameter: since\n",
      "Unexpected parameter: since\n",
      "Unexpected parameter: since\n",
      "Unexpected parameter: since\n",
      "Unexpected parameter: since\n",
      "Unexpected parameter: since\n",
      "Unexpected parameter: since\n",
      "Unexpected parameter: since\n",
      "Unexpected parameter: since\n",
      "Unexpected parameter: since\n",
      "Unexpected parameter: since\n",
      "Unexpected parameter: since\n",
      "Unexpected parameter: since\n",
      "Unexpected parameter: since\n",
      "Unexpected parameter: since\n",
      "Unexpected parameter: since\n",
      "Unexpected parameter: since\n",
      "Unexpected parameter: since\n",
      "Unexpected parameter: since\n",
      "Unexpected parameter: since\n",
      "Unexpected parameter: since\n"
     ]
    },
    {
     "name": "stdout",
     "output_type": "stream",
     "text": [
      "Total Tweets fetched: 437\n"
     ]
    },
    {
     "data": {
      "text/html": [
       "<div>\n",
       "<style scoped>\n",
       "    .dataframe tbody tr th:only-of-type {\n",
       "        vertical-align: middle;\n",
       "    }\n",
       "\n",
       "    .dataframe tbody tr th {\n",
       "        vertical-align: top;\n",
       "    }\n",
       "\n",
       "    .dataframe thead th {\n",
       "        text-align: right;\n",
       "    }\n",
       "</style>\n",
       "<table border=\"1\" class=\"dataframe\">\n",
       "  <thead>\n",
       "    <tr style=\"text-align: right;\">\n",
       "      <th></th>\n",
       "      <th>user_name</th>\n",
       "      <th>id</th>\n",
       "      <th>user_location</th>\n",
       "      <th>user_description</th>\n",
       "      <th>user_verified</th>\n",
       "      <th>date</th>\n",
       "      <th>text</th>\n",
       "      <th>hashtags</th>\n",
       "      <th>source</th>\n",
       "    </tr>\n",
       "  </thead>\n",
       "  <tbody>\n",
       "    <tr>\n",
       "      <th>0</th>\n",
       "      <td>Cardinal Birds</td>\n",
       "      <td>4641281597</td>\n",
       "      <td>Украина</td>\n",
       "      <td>CARDINAL BIRDS is an Ukrainian punk rock band ...</td>\n",
       "      <td>False</td>\n",
       "      <td>2022-03-26 17:08:33+00:00</td>\n",
       "      <td>@cech_drums “Today is the 31st day of the russ...</td>\n",
       "      <td>[war, ukraine, warinukraine]</td>\n",
       "      <td>Twitter for iPhone</td>\n",
       "    </tr>\n",
       "    <tr>\n",
       "      <th>1</th>\n",
       "      <td>Ukraine Update 🇺🇦</td>\n",
       "      <td>1498613297121497091</td>\n",
       "      <td>Kyiv, Ukraine</td>\n",
       "      <td>- #Ukraine war latest update with details\\n\\n-...</td>\n",
       "      <td>False</td>\n",
       "      <td>2022-03-26 17:00:29+00:00</td>\n",
       "      <td>⚡In response to #Russian ongoing invasion of #...</td>\n",
       "      <td>[Russian, Ukraine, Switzerland]</td>\n",
       "      <td>Twitter for Android</td>\n",
       "    </tr>\n",
       "    <tr>\n",
       "      <th>2</th>\n",
       "      <td>Ukraine Update 🇺🇦</td>\n",
       "      <td>1498613297121497091</td>\n",
       "      <td>Kyiv, Ukraine</td>\n",
       "      <td>- #Ukraine war latest update with details\\n\\n-...</td>\n",
       "      <td>False</td>\n",
       "      <td>2022-03-26 16:59:08+00:00</td>\n",
       "      <td>An up-to-date map of the #Russian invasion of ...</td>\n",
       "      <td>[Russian, Ukraine, British]</td>\n",
       "      <td>Twitter for Android</td>\n",
       "    </tr>\n",
       "    <tr>\n",
       "      <th>3</th>\n",
       "      <td>Ming the Merciless</td>\n",
       "      <td>1128354210674806784</td>\n",
       "      <td>Donbas</td>\n",
       "      <td>#IComeInPeace #NotReally         Call +7495606...</td>\n",
       "      <td>False</td>\n",
       "      <td>2022-03-26 16:09:25+00:00</td>\n",
       "      <td>@mfa_russia @StateDept @RussiaUN @RusEmbUSA @U...</td>\n",
       "      <td>None</td>\n",
       "      <td>Twitter for iPhone</td>\n",
       "    </tr>\n",
       "    <tr>\n",
       "      <th>4</th>\n",
       "      <td>Jayden X 🇺🇦</td>\n",
       "      <td>1479077497929043968</td>\n",
       "      <td>Kyiv, Ukraine</td>\n",
       "      <td>Video Journalist | Documentarian | Frontlines ...</td>\n",
       "      <td>False</td>\n",
       "      <td>2022-03-26 13:16:49+00:00</td>\n",
       "      <td>Czechs remind the people working for the Russi...</td>\n",
       "      <td>None</td>\n",
       "      <td>IFTTT</td>\n",
       "    </tr>\n",
       "  </tbody>\n",
       "</table>\n",
       "</div>"
      ],
      "text/plain": [
       "            user_name                   id   user_location  \\\n",
       "0      Cardinal Birds           4641281597         Украина   \n",
       "1   Ukraine Update 🇺🇦  1498613297121497091  Kyiv, Ukraine    \n",
       "2   Ukraine Update 🇺🇦  1498613297121497091  Kyiv, Ukraine    \n",
       "3  Ming the Merciless  1128354210674806784          Donbas   \n",
       "4         Jayden X 🇺🇦  1479077497929043968  Kyiv, Ukraine    \n",
       "\n",
       "                                    user_description  user_verified  \\\n",
       "0  CARDINAL BIRDS is an Ukrainian punk rock band ...          False   \n",
       "1  - #Ukraine war latest update with details\\n\\n-...          False   \n",
       "2  - #Ukraine war latest update with details\\n\\n-...          False   \n",
       "3  #IComeInPeace #NotReally         Call +7495606...          False   \n",
       "4  Video Journalist | Documentarian | Frontlines ...          False   \n",
       "\n",
       "                       date  \\\n",
       "0 2022-03-26 17:08:33+00:00   \n",
       "1 2022-03-26 17:00:29+00:00   \n",
       "2 2022-03-26 16:59:08+00:00   \n",
       "3 2022-03-26 16:09:25+00:00   \n",
       "4 2022-03-26 13:16:49+00:00   \n",
       "\n",
       "                                                text  \\\n",
       "0  @cech_drums “Today is the 31st day of the russ...   \n",
       "1  ⚡In response to #Russian ongoing invasion of #...   \n",
       "2  An up-to-date map of the #Russian invasion of ...   \n",
       "3  @mfa_russia @StateDept @RussiaUN @RusEmbUSA @U...   \n",
       "4  Czechs remind the people working for the Russi...   \n",
       "\n",
       "                          hashtags               source  \n",
       "0     [war, ukraine, warinukraine]   Twitter for iPhone  \n",
       "1  [Russian, Ukraine, Switzerland]  Twitter for Android  \n",
       "2      [Russian, Ukraine, British]  Twitter for Android  \n",
       "3                             None   Twitter for iPhone  \n",
       "4                             None                IFTTT  "
      ]
     },
     "execution_count": 4,
     "metadata": {},
     "output_type": "execute_result"
    }
   ],
   "source": [
    "# import tweepy\n",
    "import tweepy as tw\n",
    "\n",
    "import pandas as pd\n",
    "\n",
    "\n",
    "#Get your Twitter API credentials and enter them here\n",
    "consumer_key = \"UiXJn7dibpSP208zmD3uEz9ro\"\n",
    "consumer_secret = \"eojDEGg2J3l8dRRnBo6VqO91T3yhmzGOdPoM5Y8NTocb3ZNH0f\"\n",
    "access_key = \"1230045271561818112-bTi2ADUeIG3l8UcO81jTpstwhw1LWp\"\n",
    "access_secret = \"MIIMGvYF1tWlVctipbXpRymVC2jogqyRas12tzuYG2X0J\"\n",
    "# authenticate\n",
    "auth = tw.OAuthHandler(consumer_key, consumer_secret)\n",
    "auth.set_access_token(access_key, access_secret)\n",
    "api = tw.API(auth, wait_on_rate_limit=True)\n",
    "\n",
    "# set up search query\n",
    "search_query = \"#Ukraine invasion -filter:retweets  \"\n",
    "date_since=\"2022-02-24\"\n",
    "\n",
    "# Collection of TWEETS\n",
    "# get tweets from the API\n",
    "tweets = tw.Cursor(api.search_tweets,\n",
    "              q=search_query,\n",
    "              geocode='55.751244,37.618423,800mi',  #coordinates of Moscow, with a range of 1000 miles we are in East Europe\n",
    "              lang=\"en\",\n",
    "              result_type='recent',\n",
    "              since=date_since).items(500)\n",
    "\n",
    "# store the API responses in a list\n",
    "tweets_copy = []\n",
    "for tweet in tweets:\n",
    "    tweets_copy.append(tweet)\n",
    "    \n",
    "print(\"Total Tweets fetched:\", len(tweets_copy))\n",
    "\n",
    "# Creation of the Dataframe\n",
    "# intialize the dataframe\n",
    "tweets_df = pd.DataFrame()\n",
    "\n",
    "# populate the dataframe\n",
    "\n",
    "for tweet in tweets_copy:\n",
    "    hashtags = []\n",
    "    try:\n",
    "        for hashtag in tweet.entities[\"hashtags\"]:\n",
    "            hashtags.append(hashtag[\"text\"])\n",
    "        text = api.get_status(id=tweet.id, tweet_mode='extended').full_text\n",
    "    except:\n",
    "        pass\n",
    "    tweets_df = tweets_df.append(pd.DataFrame({'user_name': tweet.user.name,\n",
    "                                               'id':tweet.user.id,\n",
    "                                               'user_location': tweet.user.location,\\\n",
    "                                               'user_description': tweet.user.description,\n",
    "                                               'user_verified': tweet.user.verified,\n",
    "                                               'date': tweet.created_at,\n",
    "                                               'text': text, \n",
    "                                               'hashtags': [hashtags if hashtags else None],\n",
    "                                               'source': tweet.source}))\n",
    "    tweets_df = tweets_df.reset_index(drop=True)\n",
    "\n",
    "tweets_df.head()\n",
    "# creating the csv file of the dataset\n",
    "#tweets_df.to_csv('Data_Frame_tweets.csv')"
   ]
  },
  {
   "cell_type": "code",
   "execution_count": 134,
   "id": "8404a804",
   "metadata": {},
   "outputs": [],
   "source": [
    "# convert DateTime to Date\n",
    "tweets_df['date'] = pd.to_datetime(tweets_df['date']).dt.date"
   ]
  },
  {
   "cell_type": "code",
   "execution_count": 135,
   "id": "e83615a3",
   "metadata": {},
   "outputs": [
    {
     "data": {
      "text/plain": [
       "<bound method Series.unique of 0      2022-03-23\n",
       "1      2022-03-23\n",
       "2      2022-03-23\n",
       "3      2022-03-23\n",
       "4      2022-03-23\n",
       "          ...    \n",
       "404    2022-03-15\n",
       "405    2022-03-15\n",
       "406    2022-03-15\n",
       "407    2022-03-15\n",
       "408    2022-03-15\n",
       "Name: date, Length: 409, dtype: object>"
      ]
     },
     "execution_count": 135,
     "metadata": {},
     "output_type": "execute_result"
    }
   ],
   "source": [
    "tweets_df['date'].unique"
   ]
  },
  {
   "cell_type": "code",
   "execution_count": 136,
   "id": "2561523e",
   "metadata": {},
   "outputs": [
    {
     "name": "stderr",
     "output_type": "stream",
     "text": [
      "[nltk_data] Downloading package vader_lexicon to\n",
      "[nltk_data]     /Users/davidebittelli/nltk_data...\n",
      "[nltk_data]   Package vader_lexicon is already up-to-date!\n",
      "[nltk_data] Downloading package words to\n",
      "[nltk_data]     /Users/davidebittelli/nltk_data...\n",
      "[nltk_data]   Package words is already up-to-date!\n"
     ]
    }
   ],
   "source": [
    "# Importing Lybraries to analyze the polarity of the tweet\n",
    "import nltk\n",
    "nltk.download('vader_lexicon')\n",
    "from nltk.sentiment.vader import SentimentIntensityAnalyzer\n",
    "\n",
    "sid = SentimentIntensityAnalyzer()\n",
    "\n",
    "import re\n",
    "import pandas as pd\n",
    "import nltk\n",
    "nltk.download('words')\n",
    "words = set(nltk.corpus.words.words())"
   ]
  },
  {
   "cell_type": "code",
   "execution_count": 137,
   "id": "c1319e6e",
   "metadata": {},
   "outputs": [
    {
     "name": "stdout",
     "output_type": "stream",
     "text": [
      "0      Open letter of #Ukraine's major media organiza...\n",
      "1      \"#Belarus allowed its territory to be used as ...\n",
      "2      #Allies adopted economic sanctions due to #rus...\n",
      "3      NATO considers #Belarus a co-conspirator in th...\n",
      "4      Open letter by #Ukraine’s media organizations ...\n",
      "                             ...                        \n",
      "145    #Ukraine China's silk road project is a new Mo...\n",
      "146    Good evening, we are from Ukraine! 😏💪\\n#Ukrain...\n",
      "147    Russia's invasion of Ukraine is reaching a dea...\n",
      "148    Sadly, the skin color of war victims seems to ...\n",
      "149    Evening Live on @BILD about current situation ...\n",
      "Name: text, Length: 150, dtype: object\n"
     ]
    }
   ],
   "source": [
    "print(tweets_df['text'][0:150])"
   ]
  },
  {
   "cell_type": "code",
   "execution_count": 138,
   "id": "c2eb3340",
   "metadata": {},
   "outputs": [
    {
     "data": {
      "text/plain": [
       "-0.5023"
      ]
     },
     "execution_count": 138,
     "metadata": {},
     "output_type": "execute_result"
    }
   ],
   "source": [
    "# Analizing the polarity \n",
    "sentence = tweets_df['text'][48]\n",
    "sid.polarity_scores(sentence)['compound']"
   ]
  },
  {
   "cell_type": "code",
   "execution_count": 139,
   "id": "17c1d637",
   "metadata": {},
   "outputs": [
    {
     "name": "stdout",
     "output_type": "stream",
     "text": [
      "<class 'pandas.core.frame.DataFrame'>\n",
      "RangeIndex: 409 entries, 0 to 408\n",
      "Data columns (total 10 columns):\n",
      " #   Column            Non-Null Count  Dtype \n",
      "---  ------            --------------  ----- \n",
      " 0   user_name         409 non-null    object\n",
      " 1   id                409 non-null    int64 \n",
      " 2   user_location     409 non-null    object\n",
      " 3   user_description  409 non-null    object\n",
      " 4   user_verified     409 non-null    bool  \n",
      " 5   date              409 non-null    object\n",
      " 6   text              409 non-null    object\n",
      " 7   hashtags          285 non-null    object\n",
      " 8   source            409 non-null    object\n",
      " 9   text_clean        409 non-null    object\n",
      "dtypes: bool(1), int64(1), object(8)\n",
      "memory usage: 29.3+ KB\n"
     ]
    }
   ],
   "source": [
    "def cleaner(text):\n",
    "    text = re.sub(\"@[A-Za-z0-9]+\",\"\",text) #Remove @ sign\n",
    "    text = re.sub(r\"(?:\\@|http?\\://|https?\\://|www)\\S+\", \"\", text) #Remove http links\n",
    "    text = \" \".join(text.split())\n",
    "    text = text.replace(\"#\", \"\").replace(\"_\", \" \") #Remove hashtag sign but keep the text\n",
    "    text = text.replace(\"often\", \"\").replace(\"sometimes\",\"\").replace(\"said\",\"\").replace(\"think\",\"\")\n",
    "    text = \" \".join(w for w in nltk.wordpunct_tokenize(text)\n",
    "         if w.lower() in words or not w.isalpha())\n",
    "    return text\n",
    "    \n",
    "tweets_df['text_clean'] = tweets_df['text'].apply(cleaner)\n",
    "# we added the column text_clean\n",
    "tweets_df.info()\n"
   ]
  },
  {
   "cell_type": "code",
   "execution_count": 140,
   "id": "d4f1d547",
   "metadata": {},
   "outputs": [
    {
     "name": "stdout",
     "output_type": "stream",
     "text": [
      "0      Open letter of ' s major media to around the w...\n",
      "1      \" its territory to be used as a training groun...\n",
      "2      Allies adopted economic due to russia ' invasi...\n",
      "3                     a - conspirator in the invasion of\n",
      "4         Open letter by ’ s media to around the world :\n",
      "                             ...                        \n",
      "145    China ' s silk road project is a new invasion ...\n",
      "146    Good evening , we are from ! 😏💪 been opposing ...\n",
      "147    Russia ' s invasion of is reaching a deadly st...\n",
      "148    Sadly , the skin color of war to be the bigges...\n",
      "149    Evening Live on about current situation in and...\n",
      "Name: text_clean, Length: 150, dtype: object\n"
     ]
    }
   ],
   "source": [
    "print(tweets_df['text_clean'][0:150])"
   ]
  },
  {
   "cell_type": "code",
   "execution_count": 141,
   "id": "db0ecf60",
   "metadata": {},
   "outputs": [
    {
     "name": "stderr",
     "output_type": "stream",
     "text": [
      "[nltk_data] Downloading package vader_lexicon to\n",
      "[nltk_data]     /Users/davidebittelli/nltk_data...\n",
      "[nltk_data]   Package vader_lexicon is already up-to-date!\n"
     ]
    }
   ],
   "source": [
    "# Let's perform the Sentiment Analysis\n",
    "# We create our own dictionary with words and their own polarity(-1 for negatives and 1 for positives)\n",
    "word_dict = {'blood':-1,'war':-1,'Russian invasion':-1,'teamPutin':-1,\n",
    "            'bombs':-1,'call to arms':-1,'support Russia':-1,'support Putin':-1,'Nuclear abolished':1,'Nuclear alert':-1,'NATO supports Ukraine':1,\n",
    "            'support Ukraine':1,'support Kyev':1,'support Volodymyr Zelensky':1,'support Zelensky':1,'team Zelensky':1,'Zelensky resists':1,'Ukraine resists':1 }\n",
    "\n",
    "import nltk\n",
    "nltk.download('vader_lexicon')\n",
    "from nltk.sentiment.vader import SentimentIntensityAnalyzer\n",
    "\n",
    "sid = SentimentIntensityAnalyzer()\n",
    "sid.lexicon.update(word_dict)\n",
    "\n",
    "list1 = []\n",
    "for i in tweets_df['text_clean']:\n",
    "    list1.append((sid.polarity_scores(str(i)))['compound'])\n"
   ]
  },
  {
   "cell_type": "code",
   "execution_count": 142,
   "id": "5188fe3d",
   "metadata": {},
   "outputs": [
    {
     "name": "stdout",
     "output_type": "stream",
     "text": [
      "<class 'pandas.core.frame.DataFrame'>\n",
      "RangeIndex: 409 entries, 0 to 408\n",
      "Data columns (total 12 columns):\n",
      " #   Column              Non-Null Count  Dtype  \n",
      "---  ------              --------------  -----  \n",
      " 0   user_name           409 non-null    object \n",
      " 1   id                  409 non-null    int64  \n",
      " 2   user_location       409 non-null    object \n",
      " 3   user_description    409 non-null    object \n",
      " 4   user_verified       409 non-null    bool   \n",
      " 5   date                409 non-null    object \n",
      " 6   text                409 non-null    object \n",
      " 7   hashtags            285 non-null    object \n",
      " 8   source              409 non-null    object \n",
      " 9   text_clean          409 non-null    object \n",
      " 10  sentiment           409 non-null    float64\n",
      " 11  sentiment_category  409 non-null    object \n",
      "dtypes: bool(1), float64(1), int64(1), object(9)\n",
      "memory usage: 35.7+ KB\n"
     ]
    }
   ],
   "source": [
    "# Coverting the compound scores into categories:\"negative\", \"neutral\" or \"positive\"\n",
    "\n",
    "# We add the new column 'sentiment' and we fill it with the previous list\n",
    "tweets_df['sentiment'] = pd.Series(list1)\n",
    "\n",
    "def sentiment_category(sentiment):\n",
    "    label = ''\n",
    "    if(sentiment>0):\n",
    "        label = 'positive'\n",
    "    elif(sentiment == 0):\n",
    "        label = 'neutral'\n",
    "    else:\n",
    "        label = 'negative'\n",
    "    return(label)\n",
    "\n",
    "tweets_df['sentiment_category'] = tweets_df['sentiment'].apply(sentiment_category)\n",
    "\n",
    "#We add \"sentiment_category\" column\n",
    "tweets_df.info()"
   ]
  },
  {
   "cell_type": "code",
   "execution_count": 143,
   "id": "82b94bcf",
   "metadata": {},
   "outputs": [
    {
     "data": {
      "text/html": [
       "<div>\n",
       "<style scoped>\n",
       "    .dataframe tbody tr th:only-of-type {\n",
       "        vertical-align: middle;\n",
       "    }\n",
       "\n",
       "    .dataframe tbody tr th {\n",
       "        vertical-align: top;\n",
       "    }\n",
       "\n",
       "    .dataframe thead th {\n",
       "        text-align: right;\n",
       "    }\n",
       "</style>\n",
       "<table border=\"1\" class=\"dataframe\">\n",
       "  <thead>\n",
       "    <tr style=\"text-align: right;\">\n",
       "      <th></th>\n",
       "      <th>text_clean</th>\n",
       "      <th>date</th>\n",
       "      <th>id</th>\n",
       "      <th>sentiment</th>\n",
       "      <th>sentiment_category</th>\n",
       "    </tr>\n",
       "  </thead>\n",
       "  <tbody>\n",
       "    <tr>\n",
       "      <th>0</th>\n",
       "      <td>Open letter of ' s major media to around the w...</td>\n",
       "      <td>2022-03-23</td>\n",
       "      <td>524122127</td>\n",
       "      <td>0.0000</td>\n",
       "      <td>neutral</td>\n",
       "    </tr>\n",
       "    <tr>\n",
       "      <th>1</th>\n",
       "      <td>\" its territory to be used as a training groun...</td>\n",
       "      <td>2022-03-23</td>\n",
       "      <td>1278653174371487747</td>\n",
       "      <td>-0.4767</td>\n",
       "      <td>negative</td>\n",
       "    </tr>\n",
       "    <tr>\n",
       "      <th>2</th>\n",
       "      <td>Allies adopted economic due to russia ' invasi...</td>\n",
       "      <td>2022-03-23</td>\n",
       "      <td>397846530</td>\n",
       "      <td>-0.8248</td>\n",
       "      <td>negative</td>\n",
       "    </tr>\n",
       "    <tr>\n",
       "      <th>3</th>\n",
       "      <td>a - conspirator in the invasion of</td>\n",
       "      <td>2022-03-23</td>\n",
       "      <td>1278653174371487747</td>\n",
       "      <td>0.0000</td>\n",
       "      <td>neutral</td>\n",
       "    </tr>\n",
       "    <tr>\n",
       "      <th>4</th>\n",
       "      <td>Open letter by ’ s media to around the world :</td>\n",
       "      <td>2022-03-23</td>\n",
       "      <td>524122127</td>\n",
       "      <td>0.0000</td>\n",
       "      <td>neutral</td>\n",
       "    </tr>\n",
       "  </tbody>\n",
       "</table>\n",
       "</div>"
      ],
      "text/plain": [
       "                                          text_clean        date  \\\n",
       "0  Open letter of ' s major media to around the w...  2022-03-23   \n",
       "1  \" its territory to be used as a training groun...  2022-03-23   \n",
       "2  Allies adopted economic due to russia ' invasi...  2022-03-23   \n",
       "3                 a - conspirator in the invasion of  2022-03-23   \n",
       "4     Open letter by ’ s media to around the world :  2022-03-23   \n",
       "\n",
       "                    id  sentiment sentiment_category  \n",
       "0            524122127     0.0000            neutral  \n",
       "1  1278653174371487747    -0.4767           negative  \n",
       "2            397846530    -0.8248           negative  \n",
       "3  1278653174371487747     0.0000            neutral  \n",
       "4            524122127     0.0000            neutral  "
      ]
     },
     "execution_count": 143,
     "metadata": {},
     "output_type": "execute_result"
    }
   ],
   "source": [
    "# Check if everything is ok\n",
    "check = tweets_df[['text_clean','date','id','sentiment','sentiment_category']]\n",
    "check.head()"
   ]
  },
  {
   "cell_type": "code",
   "execution_count": 144,
   "id": "a613110a",
   "metadata": {},
   "outputs": [
    {
     "data": {
      "text/plain": [
       "negative    214\n",
       "positive    117\n",
       "neutral      78\n",
       "Name: sentiment_category, dtype: int64"
      ]
     },
     "execution_count": 144,
     "metadata": {},
     "output_type": "execute_result"
    }
   ],
   "source": [
    "# counting how many positive and negative tweets\n",
    "tweets_df.sentiment_category.value_counts()"
   ]
  },
  {
   "cell_type": "code",
   "execution_count": 145,
   "id": "722b0f9a",
   "metadata": {},
   "outputs": [],
   "source": [
    "#We are not going to consider neutral tweets\n",
    "# Counting negatives and positive tweets and group them by date\n",
    "neg = tweets_df[tweets_df['sentiment_category']=='negative']\n",
    "neg = neg.groupby(['date'],as_index=False).count()\n",
    "\n",
    "pos = tweets_df[tweets_df['sentiment_category']=='positive']\n",
    "pos = pos.groupby(['date'],as_index=False).count()\n",
    "\n",
    "pos = pos[['date','id']]\n",
    "neg = neg[['date','id']]\n"
   ]
  },
  {
   "cell_type": "code",
   "execution_count": 146,
   "id": "a1d5d1b3",
   "metadata": {},
   "outputs": [
    {
     "data": {
      "application/vnd.plotly.v1+json": {
       "config": {
        "plotlyServerURL": "https://plot.ly"
       },
       "data": [
        {
         "connectgaps": true,
         "line": {
          "color": "green",
          "shape": "linear"
         },
         "mode": "markers+lines",
         "name": "date",
         "type": "scatter",
         "x": [
          "2022-03-15",
          "2022-03-16",
          "2022-03-17",
          "2022-03-18",
          "2022-03-19",
          "2022-03-20",
          "2022-03-21",
          "2022-03-22",
          "2022-03-23"
         ],
         "y": [
          7,
          15,
          20,
          20,
          8,
          17,
          11,
          8,
          11
         ]
        },
        {
         "connectgaps": true,
         "line": {
          "color": "green",
          "shape": "linear"
         },
         "mode": "markers+lines",
         "name": "id",
         "type": "scatter",
         "x": [
          "2022-03-15",
          "2022-03-16",
          "2022-03-17",
          "2022-03-18",
          "2022-03-19",
          "2022-03-20",
          "2022-03-21",
          "2022-03-22",
          "2022-03-23"
         ],
         "y": [
          7,
          15,
          20,
          20,
          8,
          17,
          11,
          8,
          11
         ]
        },
        {
         "connectgaps": true,
         "line": {
          "color": "red",
          "shape": "linear"
         },
         "mode": "markers+lines",
         "name": "date",
         "type": "scatter",
         "x": [
          "2022-03-15",
          "2022-03-16",
          "2022-03-17",
          "2022-03-18",
          "2022-03-19",
          "2022-03-20",
          "2022-03-21",
          "2022-03-22",
          "2022-03-23"
         ],
         "y": [
          10,
          22,
          28,
          33,
          27,
          14,
          39,
          22,
          19
         ]
        },
        {
         "connectgaps": true,
         "line": {
          "color": "red",
          "shape": "linear"
         },
         "mode": "markers+lines",
         "name": "id",
         "type": "scatter",
         "x": [
          "2022-03-15",
          "2022-03-16",
          "2022-03-17",
          "2022-03-18",
          "2022-03-19",
          "2022-03-20",
          "2022-03-21",
          "2022-03-22",
          "2022-03-23"
         ],
         "y": [
          10,
          22,
          28,
          33,
          27,
          14,
          39,
          22,
          19
         ]
        }
       ],
       "layout": {
        "template": {
         "data": {
          "bar": [
           {
            "error_x": {
             "color": "#2a3f5f"
            },
            "error_y": {
             "color": "#2a3f5f"
            },
            "marker": {
             "line": {
              "color": "#E5ECF6",
              "width": 0.5
             },
             "pattern": {
              "fillmode": "overlay",
              "size": 10,
              "solidity": 0.2
             }
            },
            "type": "bar"
           }
          ],
          "barpolar": [
           {
            "marker": {
             "line": {
              "color": "#E5ECF6",
              "width": 0.5
             },
             "pattern": {
              "fillmode": "overlay",
              "size": 10,
              "solidity": 0.2
             }
            },
            "type": "barpolar"
           }
          ],
          "carpet": [
           {
            "aaxis": {
             "endlinecolor": "#2a3f5f",
             "gridcolor": "white",
             "linecolor": "white",
             "minorgridcolor": "white",
             "startlinecolor": "#2a3f5f"
            },
            "baxis": {
             "endlinecolor": "#2a3f5f",
             "gridcolor": "white",
             "linecolor": "white",
             "minorgridcolor": "white",
             "startlinecolor": "#2a3f5f"
            },
            "type": "carpet"
           }
          ],
          "choropleth": [
           {
            "colorbar": {
             "outlinewidth": 0,
             "ticks": ""
            },
            "type": "choropleth"
           }
          ],
          "contour": [
           {
            "colorbar": {
             "outlinewidth": 0,
             "ticks": ""
            },
            "colorscale": [
             [
              0,
              "#0d0887"
             ],
             [
              0.1111111111111111,
              "#46039f"
             ],
             [
              0.2222222222222222,
              "#7201a8"
             ],
             [
              0.3333333333333333,
              "#9c179e"
             ],
             [
              0.4444444444444444,
              "#bd3786"
             ],
             [
              0.5555555555555556,
              "#d8576b"
             ],
             [
              0.6666666666666666,
              "#ed7953"
             ],
             [
              0.7777777777777778,
              "#fb9f3a"
             ],
             [
              0.8888888888888888,
              "#fdca26"
             ],
             [
              1,
              "#f0f921"
             ]
            ],
            "type": "contour"
           }
          ],
          "contourcarpet": [
           {
            "colorbar": {
             "outlinewidth": 0,
             "ticks": ""
            },
            "type": "contourcarpet"
           }
          ],
          "heatmap": [
           {
            "colorbar": {
             "outlinewidth": 0,
             "ticks": ""
            },
            "colorscale": [
             [
              0,
              "#0d0887"
             ],
             [
              0.1111111111111111,
              "#46039f"
             ],
             [
              0.2222222222222222,
              "#7201a8"
             ],
             [
              0.3333333333333333,
              "#9c179e"
             ],
             [
              0.4444444444444444,
              "#bd3786"
             ],
             [
              0.5555555555555556,
              "#d8576b"
             ],
             [
              0.6666666666666666,
              "#ed7953"
             ],
             [
              0.7777777777777778,
              "#fb9f3a"
             ],
             [
              0.8888888888888888,
              "#fdca26"
             ],
             [
              1,
              "#f0f921"
             ]
            ],
            "type": "heatmap"
           }
          ],
          "heatmapgl": [
           {
            "colorbar": {
             "outlinewidth": 0,
             "ticks": ""
            },
            "colorscale": [
             [
              0,
              "#0d0887"
             ],
             [
              0.1111111111111111,
              "#46039f"
             ],
             [
              0.2222222222222222,
              "#7201a8"
             ],
             [
              0.3333333333333333,
              "#9c179e"
             ],
             [
              0.4444444444444444,
              "#bd3786"
             ],
             [
              0.5555555555555556,
              "#d8576b"
             ],
             [
              0.6666666666666666,
              "#ed7953"
             ],
             [
              0.7777777777777778,
              "#fb9f3a"
             ],
             [
              0.8888888888888888,
              "#fdca26"
             ],
             [
              1,
              "#f0f921"
             ]
            ],
            "type": "heatmapgl"
           }
          ],
          "histogram": [
           {
            "marker": {
             "pattern": {
              "fillmode": "overlay",
              "size": 10,
              "solidity": 0.2
             }
            },
            "type": "histogram"
           }
          ],
          "histogram2d": [
           {
            "colorbar": {
             "outlinewidth": 0,
             "ticks": ""
            },
            "colorscale": [
             [
              0,
              "#0d0887"
             ],
             [
              0.1111111111111111,
              "#46039f"
             ],
             [
              0.2222222222222222,
              "#7201a8"
             ],
             [
              0.3333333333333333,
              "#9c179e"
             ],
             [
              0.4444444444444444,
              "#bd3786"
             ],
             [
              0.5555555555555556,
              "#d8576b"
             ],
             [
              0.6666666666666666,
              "#ed7953"
             ],
             [
              0.7777777777777778,
              "#fb9f3a"
             ],
             [
              0.8888888888888888,
              "#fdca26"
             ],
             [
              1,
              "#f0f921"
             ]
            ],
            "type": "histogram2d"
           }
          ],
          "histogram2dcontour": [
           {
            "colorbar": {
             "outlinewidth": 0,
             "ticks": ""
            },
            "colorscale": [
             [
              0,
              "#0d0887"
             ],
             [
              0.1111111111111111,
              "#46039f"
             ],
             [
              0.2222222222222222,
              "#7201a8"
             ],
             [
              0.3333333333333333,
              "#9c179e"
             ],
             [
              0.4444444444444444,
              "#bd3786"
             ],
             [
              0.5555555555555556,
              "#d8576b"
             ],
             [
              0.6666666666666666,
              "#ed7953"
             ],
             [
              0.7777777777777778,
              "#fb9f3a"
             ],
             [
              0.8888888888888888,
              "#fdca26"
             ],
             [
              1,
              "#f0f921"
             ]
            ],
            "type": "histogram2dcontour"
           }
          ],
          "mesh3d": [
           {
            "colorbar": {
             "outlinewidth": 0,
             "ticks": ""
            },
            "type": "mesh3d"
           }
          ],
          "parcoords": [
           {
            "line": {
             "colorbar": {
              "outlinewidth": 0,
              "ticks": ""
             }
            },
            "type": "parcoords"
           }
          ],
          "pie": [
           {
            "automargin": true,
            "type": "pie"
           }
          ],
          "scatter": [
           {
            "marker": {
             "colorbar": {
              "outlinewidth": 0,
              "ticks": ""
             }
            },
            "type": "scatter"
           }
          ],
          "scatter3d": [
           {
            "line": {
             "colorbar": {
              "outlinewidth": 0,
              "ticks": ""
             }
            },
            "marker": {
             "colorbar": {
              "outlinewidth": 0,
              "ticks": ""
             }
            },
            "type": "scatter3d"
           }
          ],
          "scattercarpet": [
           {
            "marker": {
             "colorbar": {
              "outlinewidth": 0,
              "ticks": ""
             }
            },
            "type": "scattercarpet"
           }
          ],
          "scattergeo": [
           {
            "marker": {
             "colorbar": {
              "outlinewidth": 0,
              "ticks": ""
             }
            },
            "type": "scattergeo"
           }
          ],
          "scattergl": [
           {
            "marker": {
             "colorbar": {
              "outlinewidth": 0,
              "ticks": ""
             }
            },
            "type": "scattergl"
           }
          ],
          "scattermapbox": [
           {
            "marker": {
             "colorbar": {
              "outlinewidth": 0,
              "ticks": ""
             }
            },
            "type": "scattermapbox"
           }
          ],
          "scatterpolar": [
           {
            "marker": {
             "colorbar": {
              "outlinewidth": 0,
              "ticks": ""
             }
            },
            "type": "scatterpolar"
           }
          ],
          "scatterpolargl": [
           {
            "marker": {
             "colorbar": {
              "outlinewidth": 0,
              "ticks": ""
             }
            },
            "type": "scatterpolargl"
           }
          ],
          "scatterternary": [
           {
            "marker": {
             "colorbar": {
              "outlinewidth": 0,
              "ticks": ""
             }
            },
            "type": "scatterternary"
           }
          ],
          "surface": [
           {
            "colorbar": {
             "outlinewidth": 0,
             "ticks": ""
            },
            "colorscale": [
             [
              0,
              "#0d0887"
             ],
             [
              0.1111111111111111,
              "#46039f"
             ],
             [
              0.2222222222222222,
              "#7201a8"
             ],
             [
              0.3333333333333333,
              "#9c179e"
             ],
             [
              0.4444444444444444,
              "#bd3786"
             ],
             [
              0.5555555555555556,
              "#d8576b"
             ],
             [
              0.6666666666666666,
              "#ed7953"
             ],
             [
              0.7777777777777778,
              "#fb9f3a"
             ],
             [
              0.8888888888888888,
              "#fdca26"
             ],
             [
              1,
              "#f0f921"
             ]
            ],
            "type": "surface"
           }
          ],
          "table": [
           {
            "cells": {
             "fill": {
              "color": "#EBF0F8"
             },
             "line": {
              "color": "white"
             }
            },
            "header": {
             "fill": {
              "color": "#C8D4E3"
             },
             "line": {
              "color": "white"
             }
            },
            "type": "table"
           }
          ]
         },
         "layout": {
          "annotationdefaults": {
           "arrowcolor": "#2a3f5f",
           "arrowhead": 0,
           "arrowwidth": 1
          },
          "autotypenumbers": "strict",
          "coloraxis": {
           "colorbar": {
            "outlinewidth": 0,
            "ticks": ""
           }
          },
          "colorscale": {
           "diverging": [
            [
             0,
             "#8e0152"
            ],
            [
             0.1,
             "#c51b7d"
            ],
            [
             0.2,
             "#de77ae"
            ],
            [
             0.3,
             "#f1b6da"
            ],
            [
             0.4,
             "#fde0ef"
            ],
            [
             0.5,
             "#f7f7f7"
            ],
            [
             0.6,
             "#e6f5d0"
            ],
            [
             0.7,
             "#b8e186"
            ],
            [
             0.8,
             "#7fbc41"
            ],
            [
             0.9,
             "#4d9221"
            ],
            [
             1,
             "#276419"
            ]
           ],
           "sequential": [
            [
             0,
             "#0d0887"
            ],
            [
             0.1111111111111111,
             "#46039f"
            ],
            [
             0.2222222222222222,
             "#7201a8"
            ],
            [
             0.3333333333333333,
             "#9c179e"
            ],
            [
             0.4444444444444444,
             "#bd3786"
            ],
            [
             0.5555555555555556,
             "#d8576b"
            ],
            [
             0.6666666666666666,
             "#ed7953"
            ],
            [
             0.7777777777777778,
             "#fb9f3a"
            ],
            [
             0.8888888888888888,
             "#fdca26"
            ],
            [
             1,
             "#f0f921"
            ]
           ],
           "sequentialminus": [
            [
             0,
             "#0d0887"
            ],
            [
             0.1111111111111111,
             "#46039f"
            ],
            [
             0.2222222222222222,
             "#7201a8"
            ],
            [
             0.3333333333333333,
             "#9c179e"
            ],
            [
             0.4444444444444444,
             "#bd3786"
            ],
            [
             0.5555555555555556,
             "#d8576b"
            ],
            [
             0.6666666666666666,
             "#ed7953"
            ],
            [
             0.7777777777777778,
             "#fb9f3a"
            ],
            [
             0.8888888888888888,
             "#fdca26"
            ],
            [
             1,
             "#f0f921"
            ]
           ]
          },
          "colorway": [
           "#636efa",
           "#EF553B",
           "#00cc96",
           "#ab63fa",
           "#FFA15A",
           "#19d3f3",
           "#FF6692",
           "#B6E880",
           "#FF97FF",
           "#FECB52"
          ],
          "font": {
           "color": "#2a3f5f"
          },
          "geo": {
           "bgcolor": "white",
           "lakecolor": "white",
           "landcolor": "#E5ECF6",
           "showlakes": true,
           "showland": true,
           "subunitcolor": "white"
          },
          "hoverlabel": {
           "align": "left"
          },
          "hovermode": "closest",
          "mapbox": {
           "style": "light"
          },
          "paper_bgcolor": "white",
          "plot_bgcolor": "#E5ECF6",
          "polar": {
           "angularaxis": {
            "gridcolor": "white",
            "linecolor": "white",
            "ticks": ""
           },
           "bgcolor": "#E5ECF6",
           "radialaxis": {
            "gridcolor": "white",
            "linecolor": "white",
            "ticks": ""
           }
          },
          "scene": {
           "xaxis": {
            "backgroundcolor": "#E5ECF6",
            "gridcolor": "white",
            "gridwidth": 2,
            "linecolor": "white",
            "showbackground": true,
            "ticks": "",
            "zerolinecolor": "white"
           },
           "yaxis": {
            "backgroundcolor": "#E5ECF6",
            "gridcolor": "white",
            "gridwidth": 2,
            "linecolor": "white",
            "showbackground": true,
            "ticks": "",
            "zerolinecolor": "white"
           },
           "zaxis": {
            "backgroundcolor": "#E5ECF6",
            "gridcolor": "white",
            "gridwidth": 2,
            "linecolor": "white",
            "showbackground": true,
            "ticks": "",
            "zerolinecolor": "white"
           }
          },
          "shapedefaults": {
           "line": {
            "color": "#2a3f5f"
           }
          },
          "ternary": {
           "aaxis": {
            "gridcolor": "white",
            "linecolor": "white",
            "ticks": ""
           },
           "baxis": {
            "gridcolor": "white",
            "linecolor": "white",
            "ticks": ""
           },
           "bgcolor": "#E5ECF6",
           "caxis": {
            "gridcolor": "white",
            "linecolor": "white",
            "ticks": ""
           }
          },
          "title": {
           "x": 0.05
          },
          "xaxis": {
           "automargin": true,
           "gridcolor": "white",
           "linecolor": "white",
           "ticks": "",
           "title": {
            "standoff": 15
           },
           "zerolinecolor": "white",
           "zerolinewidth": 2
          },
          "yaxis": {
           "automargin": true,
           "gridcolor": "white",
           "linecolor": "white",
           "ticks": "",
           "title": {
            "standoff": 15
           },
           "zerolinecolor": "white",
           "zerolinewidth": 2
          }
         }
        }
       }
      },
      "text/html": [
       "<div>                            <div id=\"652798bb-e9e4-4f29-af46-71b24f50e356\" class=\"plotly-graph-div\" style=\"height:525px; width:100%;\"></div>            <script type=\"text/javascript\">                require([\"plotly\"], function(Plotly) {                    window.PLOTLYENV=window.PLOTLYENV || {};                                    if (document.getElementById(\"652798bb-e9e4-4f29-af46-71b24f50e356\")) {                    Plotly.newPlot(                        \"652798bb-e9e4-4f29-af46-71b24f50e356\",                        [{\"connectgaps\":true,\"line\":{\"color\":\"green\",\"shape\":\"linear\"},\"mode\":\"markers+lines\",\"name\":\"date\",\"x\":[\"2022-03-15\",\"2022-03-16\",\"2022-03-17\",\"2022-03-18\",\"2022-03-19\",\"2022-03-20\",\"2022-03-21\",\"2022-03-22\",\"2022-03-23\"],\"y\":[7,15,20,20,8,17,11,8,11],\"type\":\"scatter\"},{\"connectgaps\":true,\"line\":{\"color\":\"green\",\"shape\":\"linear\"},\"mode\":\"markers+lines\",\"name\":\"id\",\"x\":[\"2022-03-15\",\"2022-03-16\",\"2022-03-17\",\"2022-03-18\",\"2022-03-19\",\"2022-03-20\",\"2022-03-21\",\"2022-03-22\",\"2022-03-23\"],\"y\":[7,15,20,20,8,17,11,8,11],\"type\":\"scatter\"},{\"connectgaps\":true,\"line\":{\"color\":\"red\",\"shape\":\"linear\"},\"mode\":\"markers+lines\",\"name\":\"date\",\"x\":[\"2022-03-15\",\"2022-03-16\",\"2022-03-17\",\"2022-03-18\",\"2022-03-19\",\"2022-03-20\",\"2022-03-21\",\"2022-03-22\",\"2022-03-23\"],\"y\":[10,22,28,33,27,14,39,22,19],\"type\":\"scatter\"},{\"connectgaps\":true,\"line\":{\"color\":\"red\",\"shape\":\"linear\"},\"mode\":\"markers+lines\",\"name\":\"id\",\"x\":[\"2022-03-15\",\"2022-03-16\",\"2022-03-17\",\"2022-03-18\",\"2022-03-19\",\"2022-03-20\",\"2022-03-21\",\"2022-03-22\",\"2022-03-23\"],\"y\":[10,22,28,33,27,14,39,22,19],\"type\":\"scatter\"}],                        {\"template\":{\"data\":{\"bar\":[{\"error_x\":{\"color\":\"#2a3f5f\"},\"error_y\":{\"color\":\"#2a3f5f\"},\"marker\":{\"line\":{\"color\":\"#E5ECF6\",\"width\":0.5},\"pattern\":{\"fillmode\":\"overlay\",\"size\":10,\"solidity\":0.2}},\"type\":\"bar\"}],\"barpolar\":[{\"marker\":{\"line\":{\"color\":\"#E5ECF6\",\"width\":0.5},\"pattern\":{\"fillmode\":\"overlay\",\"size\":10,\"solidity\":0.2}},\"type\":\"barpolar\"}],\"carpet\":[{\"aaxis\":{\"endlinecolor\":\"#2a3f5f\",\"gridcolor\":\"white\",\"linecolor\":\"white\",\"minorgridcolor\":\"white\",\"startlinecolor\":\"#2a3f5f\"},\"baxis\":{\"endlinecolor\":\"#2a3f5f\",\"gridcolor\":\"white\",\"linecolor\":\"white\",\"minorgridcolor\":\"white\",\"startlinecolor\":\"#2a3f5f\"},\"type\":\"carpet\"}],\"choropleth\":[{\"colorbar\":{\"outlinewidth\":0,\"ticks\":\"\"},\"type\":\"choropleth\"}],\"contour\":[{\"colorbar\":{\"outlinewidth\":0,\"ticks\":\"\"},\"colorscale\":[[0.0,\"#0d0887\"],[0.1111111111111111,\"#46039f\"],[0.2222222222222222,\"#7201a8\"],[0.3333333333333333,\"#9c179e\"],[0.4444444444444444,\"#bd3786\"],[0.5555555555555556,\"#d8576b\"],[0.6666666666666666,\"#ed7953\"],[0.7777777777777778,\"#fb9f3a\"],[0.8888888888888888,\"#fdca26\"],[1.0,\"#f0f921\"]],\"type\":\"contour\"}],\"contourcarpet\":[{\"colorbar\":{\"outlinewidth\":0,\"ticks\":\"\"},\"type\":\"contourcarpet\"}],\"heatmap\":[{\"colorbar\":{\"outlinewidth\":0,\"ticks\":\"\"},\"colorscale\":[[0.0,\"#0d0887\"],[0.1111111111111111,\"#46039f\"],[0.2222222222222222,\"#7201a8\"],[0.3333333333333333,\"#9c179e\"],[0.4444444444444444,\"#bd3786\"],[0.5555555555555556,\"#d8576b\"],[0.6666666666666666,\"#ed7953\"],[0.7777777777777778,\"#fb9f3a\"],[0.8888888888888888,\"#fdca26\"],[1.0,\"#f0f921\"]],\"type\":\"heatmap\"}],\"heatmapgl\":[{\"colorbar\":{\"outlinewidth\":0,\"ticks\":\"\"},\"colorscale\":[[0.0,\"#0d0887\"],[0.1111111111111111,\"#46039f\"],[0.2222222222222222,\"#7201a8\"],[0.3333333333333333,\"#9c179e\"],[0.4444444444444444,\"#bd3786\"],[0.5555555555555556,\"#d8576b\"],[0.6666666666666666,\"#ed7953\"],[0.7777777777777778,\"#fb9f3a\"],[0.8888888888888888,\"#fdca26\"],[1.0,\"#f0f921\"]],\"type\":\"heatmapgl\"}],\"histogram\":[{\"marker\":{\"pattern\":{\"fillmode\":\"overlay\",\"size\":10,\"solidity\":0.2}},\"type\":\"histogram\"}],\"histogram2d\":[{\"colorbar\":{\"outlinewidth\":0,\"ticks\":\"\"},\"colorscale\":[[0.0,\"#0d0887\"],[0.1111111111111111,\"#46039f\"],[0.2222222222222222,\"#7201a8\"],[0.3333333333333333,\"#9c179e\"],[0.4444444444444444,\"#bd3786\"],[0.5555555555555556,\"#d8576b\"],[0.6666666666666666,\"#ed7953\"],[0.7777777777777778,\"#fb9f3a\"],[0.8888888888888888,\"#fdca26\"],[1.0,\"#f0f921\"]],\"type\":\"histogram2d\"}],\"histogram2dcontour\":[{\"colorbar\":{\"outlinewidth\":0,\"ticks\":\"\"},\"colorscale\":[[0.0,\"#0d0887\"],[0.1111111111111111,\"#46039f\"],[0.2222222222222222,\"#7201a8\"],[0.3333333333333333,\"#9c179e\"],[0.4444444444444444,\"#bd3786\"],[0.5555555555555556,\"#d8576b\"],[0.6666666666666666,\"#ed7953\"],[0.7777777777777778,\"#fb9f3a\"],[0.8888888888888888,\"#fdca26\"],[1.0,\"#f0f921\"]],\"type\":\"histogram2dcontour\"}],\"mesh3d\":[{\"colorbar\":{\"outlinewidth\":0,\"ticks\":\"\"},\"type\":\"mesh3d\"}],\"parcoords\":[{\"line\":{\"colorbar\":{\"outlinewidth\":0,\"ticks\":\"\"}},\"type\":\"parcoords\"}],\"pie\":[{\"automargin\":true,\"type\":\"pie\"}],\"scatter\":[{\"marker\":{\"colorbar\":{\"outlinewidth\":0,\"ticks\":\"\"}},\"type\":\"scatter\"}],\"scatter3d\":[{\"line\":{\"colorbar\":{\"outlinewidth\":0,\"ticks\":\"\"}},\"marker\":{\"colorbar\":{\"outlinewidth\":0,\"ticks\":\"\"}},\"type\":\"scatter3d\"}],\"scattercarpet\":[{\"marker\":{\"colorbar\":{\"outlinewidth\":0,\"ticks\":\"\"}},\"type\":\"scattercarpet\"}],\"scattergeo\":[{\"marker\":{\"colorbar\":{\"outlinewidth\":0,\"ticks\":\"\"}},\"type\":\"scattergeo\"}],\"scattergl\":[{\"marker\":{\"colorbar\":{\"outlinewidth\":0,\"ticks\":\"\"}},\"type\":\"scattergl\"}],\"scattermapbox\":[{\"marker\":{\"colorbar\":{\"outlinewidth\":0,\"ticks\":\"\"}},\"type\":\"scattermapbox\"}],\"scatterpolar\":[{\"marker\":{\"colorbar\":{\"outlinewidth\":0,\"ticks\":\"\"}},\"type\":\"scatterpolar\"}],\"scatterpolargl\":[{\"marker\":{\"colorbar\":{\"outlinewidth\":0,\"ticks\":\"\"}},\"type\":\"scatterpolargl\"}],\"scatterternary\":[{\"marker\":{\"colorbar\":{\"outlinewidth\":0,\"ticks\":\"\"}},\"type\":\"scatterternary\"}],\"surface\":[{\"colorbar\":{\"outlinewidth\":0,\"ticks\":\"\"},\"colorscale\":[[0.0,\"#0d0887\"],[0.1111111111111111,\"#46039f\"],[0.2222222222222222,\"#7201a8\"],[0.3333333333333333,\"#9c179e\"],[0.4444444444444444,\"#bd3786\"],[0.5555555555555556,\"#d8576b\"],[0.6666666666666666,\"#ed7953\"],[0.7777777777777778,\"#fb9f3a\"],[0.8888888888888888,\"#fdca26\"],[1.0,\"#f0f921\"]],\"type\":\"surface\"}],\"table\":[{\"cells\":{\"fill\":{\"color\":\"#EBF0F8\"},\"line\":{\"color\":\"white\"}},\"header\":{\"fill\":{\"color\":\"#C8D4E3\"},\"line\":{\"color\":\"white\"}},\"type\":\"table\"}]},\"layout\":{\"annotationdefaults\":{\"arrowcolor\":\"#2a3f5f\",\"arrowhead\":0,\"arrowwidth\":1},\"autotypenumbers\":\"strict\",\"coloraxis\":{\"colorbar\":{\"outlinewidth\":0,\"ticks\":\"\"}},\"colorscale\":{\"diverging\":[[0,\"#8e0152\"],[0.1,\"#c51b7d\"],[0.2,\"#de77ae\"],[0.3,\"#f1b6da\"],[0.4,\"#fde0ef\"],[0.5,\"#f7f7f7\"],[0.6,\"#e6f5d0\"],[0.7,\"#b8e186\"],[0.8,\"#7fbc41\"],[0.9,\"#4d9221\"],[1,\"#276419\"]],\"sequential\":[[0.0,\"#0d0887\"],[0.1111111111111111,\"#46039f\"],[0.2222222222222222,\"#7201a8\"],[0.3333333333333333,\"#9c179e\"],[0.4444444444444444,\"#bd3786\"],[0.5555555555555556,\"#d8576b\"],[0.6666666666666666,\"#ed7953\"],[0.7777777777777778,\"#fb9f3a\"],[0.8888888888888888,\"#fdca26\"],[1.0,\"#f0f921\"]],\"sequentialminus\":[[0.0,\"#0d0887\"],[0.1111111111111111,\"#46039f\"],[0.2222222222222222,\"#7201a8\"],[0.3333333333333333,\"#9c179e\"],[0.4444444444444444,\"#bd3786\"],[0.5555555555555556,\"#d8576b\"],[0.6666666666666666,\"#ed7953\"],[0.7777777777777778,\"#fb9f3a\"],[0.8888888888888888,\"#fdca26\"],[1.0,\"#f0f921\"]]},\"colorway\":[\"#636efa\",\"#EF553B\",\"#00cc96\",\"#ab63fa\",\"#FFA15A\",\"#19d3f3\",\"#FF6692\",\"#B6E880\",\"#FF97FF\",\"#FECB52\"],\"font\":{\"color\":\"#2a3f5f\"},\"geo\":{\"bgcolor\":\"white\",\"lakecolor\":\"white\",\"landcolor\":\"#E5ECF6\",\"showlakes\":true,\"showland\":true,\"subunitcolor\":\"white\"},\"hoverlabel\":{\"align\":\"left\"},\"hovermode\":\"closest\",\"mapbox\":{\"style\":\"light\"},\"paper_bgcolor\":\"white\",\"plot_bgcolor\":\"#E5ECF6\",\"polar\":{\"angularaxis\":{\"gridcolor\":\"white\",\"linecolor\":\"white\",\"ticks\":\"\"},\"bgcolor\":\"#E5ECF6\",\"radialaxis\":{\"gridcolor\":\"white\",\"linecolor\":\"white\",\"ticks\":\"\"}},\"scene\":{\"xaxis\":{\"backgroundcolor\":\"#E5ECF6\",\"gridcolor\":\"white\",\"gridwidth\":2,\"linecolor\":\"white\",\"showbackground\":true,\"ticks\":\"\",\"zerolinecolor\":\"white\"},\"yaxis\":{\"backgroundcolor\":\"#E5ECF6\",\"gridcolor\":\"white\",\"gridwidth\":2,\"linecolor\":\"white\",\"showbackground\":true,\"ticks\":\"\",\"zerolinecolor\":\"white\"},\"zaxis\":{\"backgroundcolor\":\"#E5ECF6\",\"gridcolor\":\"white\",\"gridwidth\":2,\"linecolor\":\"white\",\"showbackground\":true,\"ticks\":\"\",\"zerolinecolor\":\"white\"}},\"shapedefaults\":{\"line\":{\"color\":\"#2a3f5f\"}},\"ternary\":{\"aaxis\":{\"gridcolor\":\"white\",\"linecolor\":\"white\",\"ticks\":\"\"},\"baxis\":{\"gridcolor\":\"white\",\"linecolor\":\"white\",\"ticks\":\"\"},\"bgcolor\":\"#E5ECF6\",\"caxis\":{\"gridcolor\":\"white\",\"linecolor\":\"white\",\"ticks\":\"\"}},\"title\":{\"x\":0.05},\"xaxis\":{\"automargin\":true,\"gridcolor\":\"white\",\"linecolor\":\"white\",\"ticks\":\"\",\"title\":{\"standoff\":15},\"zerolinecolor\":\"white\",\"zerolinewidth\":2},\"yaxis\":{\"automargin\":true,\"gridcolor\":\"white\",\"linecolor\":\"white\",\"ticks\":\"\",\"title\":{\"standoff\":15},\"zerolinecolor\":\"white\",\"zerolinewidth\":2}}}},                        {\"responsive\": true}                    ).then(function(){\n",
       "                            \n",
       "var gd = document.getElementById('652798bb-e9e4-4f29-af46-71b24f50e356');\n",
       "var x = new MutationObserver(function (mutations, observer) {{\n",
       "        var display = window.getComputedStyle(gd).display;\n",
       "        if (!display || display === 'none') {{\n",
       "            console.log([gd, 'removed!']);\n",
       "            Plotly.purge(gd);\n",
       "            observer.disconnect();\n",
       "        }}\n",
       "}});\n",
       "\n",
       "// Listen for the removal of the full notebook cells\n",
       "var notebookContainer = gd.closest('#notebook-container');\n",
       "if (notebookContainer) {{\n",
       "    x.observe(notebookContainer, {childList: true});\n",
       "}}\n",
       "\n",
       "// Listen for the clearing of the current output cell\n",
       "var outputEl = gd.closest('.output');\n",
       "if (outputEl) {{\n",
       "    x.observe(outputEl, {childList: true});\n",
       "}}\n",
       "\n",
       "                        })                };                });            </script>        </div>"
      ]
     },
     "metadata": {},
     "output_type": "display_data"
    }
   ],
   "source": [
    "# Visualizing the sentiment\n",
    "#pip install plotly\n",
    "import plotly.graph_objs as go\n",
    "\n",
    "fig = go.Figure()\n",
    "for col in pos.columns:\n",
    "    fig.add_trace(go.Scatter(x=pos['date'], y=pos['id'],\n",
    "                             name = col,\n",
    "                             mode = 'markers+lines',\n",
    "                             line=dict(shape='linear'),\n",
    "                             connectgaps=True,\n",
    "                             line_color='green'\n",
    "                             )\n",
    "                 )\n",
    "\n",
    "for col in neg.columns:\n",
    "    fig.add_trace(go.Scatter(x=neg['date'], y=neg['id'],\n",
    "                             name = col,\n",
    "                             mode = 'markers+lines',\n",
    "                             line=dict(shape='linear'),\n",
    "                             connectgaps=True,\n",
    "                             line_color='red'\n",
    "                             )\n",
    "                 )\n",
    "fig.show()\n"
   ]
  },
  {
   "cell_type": "code",
   "execution_count": 148,
   "id": "7b82afa4",
   "metadata": {},
   "outputs": [
    {
     "data": {
      "image/png": "[encoded data removed]",
      "text/plain": [
       "<Figure size 432x288 with 1 Axes>"
      ]
     },
     "metadata": {
      "needs_background": "light"
     },
     "output_type": "display_data"
    }
   ],
   "source": [
    "# Create a word cloud about Positive tweets\n",
    "import matplotlib.pyplot as plt\n",
    "from wordcloud import WordCloud\n",
    "#tweets_df2 = tweets_df[(tweets_df['date']>='2019-05-11') & (df['date']<='2019-05-14')]\n",
    "tweets_df2 = tweets_df\n",
    "positive = tweets_df2[tweets_df2['sentiment_category']=='positive']\n",
    "wordcloud_pos = WordCloud(max_font_size=50, max_words=500, background_color=\"white\",\n",
    "                         stopwords=['study','to','of','on',\"for\",'an','the','in','and','he',\n",
    "                                    'a','I','you','he','she','it','we',\"from\",'that','is','are',\n",
    "                                    \"as\",'not','some','have','invasion',\n",
    "                                    'every','they','with','dtype']).generate(str(positive['text_clean']))\n",
    "plt.figure()\n",
    "plt.imshow(wordcloud_pos, interpolation=\"bilinear\")\n",
    "plt.axis(\"off\")\n",
    "plt.show()"
   ]
  },
  {
   "cell_type": "code",
   "execution_count": 149,
   "id": "a3ec9f3e",
   "metadata": {},
   "outputs": [
    {
     "data": {
      "image/png": "[encoded data removed]",
      "text/plain": [
       "<Figure size 432x288 with 1 Axes>"
      ]
     },
     "metadata": {
      "needs_background": "light"
     },
     "output_type": "display_data"
    }
   ],
   "source": [
    "# Create a word cloud about Negative tweets\n",
    "import matplotlib.pyplot as plt\n",
    "from wordcloud import WordCloud\n",
    "#tweets_df2 = tweets_df[(tweets_df['date']>='2019-05-11') & (df['date']<='2019-05-14')]\n",
    "tweets_df2 = tweets_df\n",
    "positive = tweets_df2[tweets_df2['sentiment_category']=='negative']\n",
    "wordcloud_neg = WordCloud(max_font_size=50, max_words=500, background_color=\"black\",colormap='RdBu',\n",
    "                         stopwords=['study','to','of','on',\"for\",'an','the','in','and','he',\n",
    "                                    'a','I','you','he','she','it','we','from','that','is','are',\"as\",'not','some','have',\n",
    "                                    'every','they','with','dtype']).generate(str(positive['text_clean']))\n",
    "plt.figure()\n",
    "plt.imshow(wordcloud_neg, interpolation=\"bilinear\")\n",
    "plt.axis(\"off\")\n",
    "plt.show()"
   ]
  },
  {
   "cell_type": "code",
   "execution_count": 150,
   "id": "1caef4e6",
   "metadata": {},
   "outputs": [
    {
     "data": {
      "text/html": [
       "<div>\n",
       "<style scoped>\n",
       "    .dataframe tbody tr th:only-of-type {\n",
       "        vertical-align: middle;\n",
       "    }\n",
       "\n",
       "    .dataframe tbody tr th {\n",
       "        vertical-align: top;\n",
       "    }\n",
       "\n",
       "    .dataframe thead th {\n",
       "        text-align: right;\n",
       "    }\n",
       "</style>\n",
       "<table border=\"1\" class=\"dataframe\">\n",
       "  <thead>\n",
       "    <tr style=\"text-align: right;\">\n",
       "      <th></th>\n",
       "      <th>user_name</th>\n",
       "      <th>id</th>\n",
       "      <th>user_location</th>\n",
       "      <th>user_description</th>\n",
       "      <th>user_verified</th>\n",
       "      <th>date</th>\n",
       "      <th>text</th>\n",
       "      <th>hashtags</th>\n",
       "      <th>source</th>\n",
       "      <th>text_clean</th>\n",
       "      <th>sentiment</th>\n",
       "      <th>sentiment_category</th>\n",
       "    </tr>\n",
       "  </thead>\n",
       "  <tbody>\n",
       "    <tr>\n",
       "      <th>0</th>\n",
       "      <td>Andreas Umland</td>\n",
       "      <td>524122127</td>\n",
       "      <td>Kyiv</td>\n",
       "      <td>Analyst @SCEEUS_UI @UISweden. Assoc. Prof. @Na...</td>\n",
       "      <td>False</td>\n",
       "      <td>2022-03-23</td>\n",
       "      <td>Open letter of #Ukraine's major media organiza...</td>\n",
       "      <td>[Ukraine, journalists]</td>\n",
       "      <td>Twitter for Android</td>\n",
       "      <td>Open letter of ' s major media to around the w...</td>\n",
       "      <td>0.0000</td>\n",
       "      <td>neutral</td>\n",
       "    </tr>\n",
       "    <tr>\n",
       "      <th>1</th>\n",
       "      <td>Voices from Belarus</td>\n",
       "      <td>1278653174371487747</td>\n",
       "      <td>Minsk</td>\n",
       "      <td>Insides and verified information from reliable...</td>\n",
       "      <td>False</td>\n",
       "      <td>2022-03-23</td>\n",
       "      <td>\"#Belarus allowed its territory to be used as ...</td>\n",
       "      <td>[Belarus]</td>\n",
       "      <td>Twitter for iPhone</td>\n",
       "      <td>\" its territory to be used as a training groun...</td>\n",
       "      <td>-0.4767</td>\n",
       "      <td>negative</td>\n",
       "    </tr>\n",
       "    <tr>\n",
       "      <th>2</th>\n",
       "      <td>Oleksii Selin</td>\n",
       "      <td>397846530</td>\n",
       "      <td>Kyiv, Ukraine</td>\n",
       "      <td>Ukrainian diplomat</td>\n",
       "      <td>False</td>\n",
       "      <td>2022-03-23</td>\n",
       "      <td>#Allies adopted economic sanctions due to #rus...</td>\n",
       "      <td>[Allies, russia, Ukraine]</td>\n",
       "      <td>Twitter for Android</td>\n",
       "      <td>Allies adopted economic due to russia ' invasi...</td>\n",
       "      <td>-0.8248</td>\n",
       "      <td>negative</td>\n",
       "    </tr>\n",
       "    <tr>\n",
       "      <th>3</th>\n",
       "      <td>Voices from Belarus</td>\n",
       "      <td>1278653174371487747</td>\n",
       "      <td>Minsk</td>\n",
       "      <td>Insides and verified information from reliable...</td>\n",
       "      <td>False</td>\n",
       "      <td>2022-03-23</td>\n",
       "      <td>NATO considers #Belarus a co-conspirator in th...</td>\n",
       "      <td>[Belarus, Ukraine]</td>\n",
       "      <td>Twitter for iPhone</td>\n",
       "      <td>a - conspirator in the invasion of</td>\n",
       "      <td>0.0000</td>\n",
       "      <td>neutral</td>\n",
       "    </tr>\n",
       "    <tr>\n",
       "      <th>4</th>\n",
       "      <td>Andreas Umland</td>\n",
       "      <td>524122127</td>\n",
       "      <td>Kyiv</td>\n",
       "      <td>Analyst @SCEEUS_UI @UISweden. Assoc. Prof. @Na...</td>\n",
       "      <td>False</td>\n",
       "      <td>2022-03-23</td>\n",
       "      <td>Open letter by #Ukraine’s media organizations ...</td>\n",
       "      <td>[Ukraine]</td>\n",
       "      <td>LinkedIn</td>\n",
       "      <td>Open letter by ’ s media to around the world :</td>\n",
       "      <td>0.0000</td>\n",
       "      <td>neutral</td>\n",
       "    </tr>\n",
       "  </tbody>\n",
       "</table>\n",
       "</div>"
      ],
      "text/plain": [
       "             user_name                   id  user_location  \\\n",
       "0       Andreas Umland            524122127           Kyiv   \n",
       "1  Voices from Belarus  1278653174371487747          Minsk   \n",
       "2        Oleksii Selin            397846530  Kyiv, Ukraine   \n",
       "3  Voices from Belarus  1278653174371487747          Minsk   \n",
       "4       Andreas Umland            524122127           Kyiv   \n",
       "\n",
       "                                    user_description  user_verified  \\\n",
       "0  Analyst @SCEEUS_UI @UISweden. Assoc. Prof. @Na...          False   \n",
       "1  Insides and verified information from reliable...          False   \n",
       "2                                 Ukrainian diplomat          False   \n",
       "3  Insides and verified information from reliable...          False   \n",
       "4  Analyst @SCEEUS_UI @UISweden. Assoc. Prof. @Na...          False   \n",
       "\n",
       "         date                                               text  \\\n",
       "0  2022-03-23  Open letter of #Ukraine's major media organiza...   \n",
       "1  2022-03-23  \"#Belarus allowed its territory to be used as ...   \n",
       "2  2022-03-23  #Allies adopted economic sanctions due to #rus...   \n",
       "3  2022-03-23  NATO considers #Belarus a co-conspirator in th...   \n",
       "4  2022-03-23  Open letter by #Ukraine’s media organizations ...   \n",
       "\n",
       "                    hashtags               source  \\\n",
       "0     [Ukraine, journalists]  Twitter for Android   \n",
       "1                  [Belarus]   Twitter for iPhone   \n",
       "2  [Allies, russia, Ukraine]  Twitter for Android   \n",
       "3         [Belarus, Ukraine]   Twitter for iPhone   \n",
       "4                  [Ukraine]             LinkedIn   \n",
       "\n",
       "                                          text_clean  sentiment  \\\n",
       "0  Open letter of ' s major media to around the w...     0.0000   \n",
       "1  \" its territory to be used as a training groun...    -0.4767   \n",
       "2  Allies adopted economic due to russia ' invasi...    -0.8248   \n",
       "3                 a - conspirator in the invasion of     0.0000   \n",
       "4     Open letter by ’ s media to around the world :     0.0000   \n",
       "\n",
       "  sentiment_category  \n",
       "0            neutral  \n",
       "1           negative  \n",
       "2           negative  \n",
       "3            neutral  \n",
       "4            neutral  "
      ]
     },
     "execution_count": 150,
     "metadata": {},
     "output_type": "execute_result"
    }
   ],
   "source": [
    "tweets_df.head()"
   ]
  },
  {
   "cell_type": "code",
   "execution_count": 152,
   "id": "46b2ecfd",
   "metadata": {},
   "outputs": [],
   "source": [
    "# export in csv\n",
    "tweets_df.to_csv('Data_Frame_tweets.csv')"
   ]
  },
  {
   "cell_type": "code",
   "execution_count": null,
   "id": "58ce0c10",
   "metadata": {},
   "outputs": [],
   "source": []
  }
 ],
 "metadata": {
  "hide_input": false,
  "kernelspec": {
   "display_name": "Python 3",
   "language": "python",
   "name": "python3"
  },
  "language_info": {
   "codemirror_mode": {
    "name": "ipython",
    "version": 3
   },
   "file_extension": ".py",
   "mimetype": "text/x-python",
   "name": "python",
   "nbconvert_exporter": "python",
   "pygments_lexer": "ipython3",
   "version": "3.9.9"
  },
  "toc": {
   "base_numbering": 1,
   "nav_menu": {},
   "number_sections": true,
   "sideBar": true,
   "skip_h1_title": false,
   "title_cell": "Table of Contents",
   "title_sidebar": "Contents",
   "toc_cell": false,
   "toc_position": {},
   "toc_section_display": true,
   "toc_window_display": false
  },
  "varInspector": {
   "cols": {
    "lenName": 16,
    "lenType": 16,
    "lenVar": 40
   },
   "kernels_config": {
    "python": {
     "delete_cmd_postfix": "",
     "delete_cmd_prefix": "del ",
     "library": "var_list.py",
     "varRefreshCmd": "print(var_dic_list())"
    },
    "r": {
     "delete_cmd_postfix": ") ",
     "delete_cmd_prefix": "rm(",
     "library": "var_list.r",
     "varRefreshCmd": "cat(var_dic_list()) "
    }
   },
   "types_to_exclude": [
    "module",
    "function",
    "builtin_function_or_method",
    "instance",
    "_Feature"
   ],
   "window_display": false
  }
 },
 "nbformat": 4,
 "nbformat_minor": 5
}
